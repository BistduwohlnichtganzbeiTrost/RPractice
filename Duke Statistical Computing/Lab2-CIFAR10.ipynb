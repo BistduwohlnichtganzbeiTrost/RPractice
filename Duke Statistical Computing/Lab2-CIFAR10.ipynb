{
  "nbformat": 4,
  "nbformat_minor": 0,
  "metadata": {
    "colab": {
      "provenance": [],
      "machine_shape": "hm"
    },
    "kernelspec": {
      "name": "python3",
      "display_name": "Python 3"
    },
    "language_info": {
      "name": "python"
    }
  },
  "cells": [
    {
      "cell_type": "code",
      "source": [
        "!pip install tensorflow\n",
        "!pip install datasets"
      ],
      "metadata": {
        "id": "RG7GG-IJO2bb"
      },
      "execution_count": null,
      "outputs": []
    },
    {
      "cell_type": "code",
      "source": [
        "from datasets import load_dataset\n",
        "import matplotlib.pyplot as plt\n",
        "import tensorflow as tf\n",
        "import numpy as np\n",
        "dataset = load_dataset(\"cifar10\")"
      ],
      "metadata": {
        "id": "5cCXZk3tPoqv"
      },
      "execution_count": null,
      "outputs": []
    },
    {
      "cell_type": "code",
      "execution_count": null,
      "metadata": {
        "colab": {
          "base_uri": "https://localhost:8080/"
        },
        "id": "5d2E7Eb6N8S5",
        "outputId": "d09df458-7362-48f2-c383-e2af6f6ff1e7"
      },
      "outputs": [
        {
          "output_type": "stream",
          "name": "stdout",
          "text": [
            "Downloading data from https://storage.googleapis.com/tensorflow/keras-applications/resnet/resnet50_weights_tf_dim_ordering_tf_kernels_notop.h5\n",
            "94765736/94765736 [==============================] - 4s 0us/step\n"
          ]
        }
      ],
      "source": [
        "from tensorflow.keras.applications.resnet50 import preprocess_input, ResNet50\n",
        "from tensorflow.keras.preprocessing.image import img_to_array, load_img, smart_resize\n",
        "import tensorflow as tf\n",
        "\n",
        "model = tf.keras.applications.resnet50.ResNet50(\n",
        "  include_top=False, # take any input shape, not just 224x224\n",
        "  weights='imagenet', # use the imagenet pretrained model\n",
        "  pooling='avg' # use global average pooling to get a 2048 vector from our image\n",
        ")\n",
        "\n",
        "def process_and_embed(dataset, model, batch_size = 512):\n",
        "  num_samples = len(dataset)\n",
        "  X = np.zeros((num_samples, 2048))\n",
        "  y = np.zeros(num_samples)\n",
        "\n",
        "  for start in range(0, num_samples, batch_size):\n",
        "    end = min(start + batch_size, num_samples)\n",
        "    batch_images = np.zeros((end - start, 224, 224, 3))\n",
        "    for i in range(start, end):\n",
        "      img = img_to_array(dataset[i]['img'])\n",
        "      img = smart_resize(img, (224, 224))\n",
        "      img = preprocess_input(img)\n",
        "      batch_images[i - start] = img\n",
        "      y[i] = dataset[i]['label']\n",
        "    batch_processed = model.predict(batch_images)\n",
        "    X[start:end] = batch_processed\n",
        "\n",
        "  return X, y"
      ]
    },
    {
      "cell_type": "code",
      "source": [
        "X_train, y_train = process_and_embed(dataset['train'], model)\n",
        "X_test, y_test = process_and_embed(dataset['test'], model)"
      ],
      "metadata": {
        "id": "SDWImpY2OCT_"
      },
      "execution_count": null,
      "outputs": []
    },
    {
      "cell_type": "code",
      "source": [
        "from sklearn.model_selection import train_test_split\n",
        "from sklearn.linear_model import LogisticRegression\n",
        "from sklearn.ensemble import RandomForestClassifier\n",
        "from sklearn.metrics import accuracy_score, confusion_matrix, classification_report"
      ],
      "metadata": {
        "id": "9_g7byaqiFVq"
      },
      "execution_count": null,
      "outputs": []
    },
    {
      "cell_type": "code",
      "source": [
        "logistic_regression_model = LogisticRegression(max_iter = 100, multi_class='multinomial', solver='lbfgs', random_state=42)\n",
        "logistic_regression_model.fit(X_train, y_train)\n",
        "y_pred = logistic_regression_model.predict(X_test)\n",
        "\n",
        "print(\"Accuracy:\", accuracy_score(y_test, y_pred))\n",
        "print(\"Confusion Matrix:\\n\", confusion_matrix(y_test, y_pred))\n",
        "print(\"Classification Report:\\n\", classification_report(y_test, y_pred))"
      ],
      "metadata": {
        "colab": {
          "base_uri": "https://localhost:8080/"
        },
        "id": "QNjqn2VOiQsP",
        "outputId": "d0ed9fe1-9e38-4400-fa5b-6455af43ac24"
      },
      "execution_count": null,
      "outputs": [
        {
          "output_type": "stream",
          "name": "stdout",
          "text": [
            "Accuracy: 0.9097\n",
            "Confusion Matrix:\n",
            " [[923   4   9   4   3   1   2   5  39  10]\n",
            " [  7 950   0   2   0   0   1   3   7  30]\n",
            " [ 15   0 889  22  32   8  19   8   5   2]\n",
            " [  2   1  16 839  20  78  24  15   3   2]\n",
            " [  3   0  26  25 901   7  13  20   3   2]\n",
            " [  2   0   9  88  15 860   8  16   1   1]\n",
            " [  5   0  20  27   9   3 932   3   1   0]\n",
            " [  5   0   9  10  29  19   1 927   0   0]\n",
            " [ 33   5   3   1   0   0   2   0 949   7]\n",
            " [ 10  44   2   3   1   0   1   2  10 927]]\n",
            "Classification Report:\n",
            "               precision    recall  f1-score   support\n",
            "\n",
            "         0.0       0.92      0.92      0.92      1000\n",
            "         1.0       0.95      0.95      0.95      1000\n",
            "         2.0       0.90      0.89      0.90      1000\n",
            "         3.0       0.82      0.84      0.83      1000\n",
            "         4.0       0.89      0.90      0.90      1000\n",
            "         5.0       0.88      0.86      0.87      1000\n",
            "         6.0       0.93      0.93      0.93      1000\n",
            "         7.0       0.93      0.93      0.93      1000\n",
            "         8.0       0.93      0.95      0.94      1000\n",
            "         9.0       0.94      0.93      0.94      1000\n",
            "\n",
            "    accuracy                           0.91     10000\n",
            "   macro avg       0.91      0.91      0.91     10000\n",
            "weighted avg       0.91      0.91      0.91     10000\n",
            "\n"
          ]
        },
        {
          "output_type": "stream",
          "name": "stderr",
          "text": [
            "/usr/local/lib/python3.10/dist-packages/sklearn/linear_model/_logistic.py:458: ConvergenceWarning: lbfgs failed to converge (status=1):\n",
            "STOP: TOTAL NO. of ITERATIONS REACHED LIMIT.\n",
            "\n",
            "Increase the number of iterations (max_iter) or scale the data as shown in:\n",
            "    https://scikit-learn.org/stable/modules/preprocessing.html\n",
            "Please also refer to the documentation for alternative solver options:\n",
            "    https://scikit-learn.org/stable/modules/linear_model.html#logistic-regression\n",
            "  n_iter_i = _check_optimize_result(\n"
          ]
        }
      ]
    },
    {
      "cell_type": "code",
      "source": [
        "random_forest_model = RandomForestClassifier(n_estimators=100, random_state=42)\n",
        "random_forest_model.fit(X_train, y_train)\n",
        "y_pred = random_forest_model.predict(X_test)\n",
        "print(\"Accuracy:\", accuracy_score(y_test, y_pred))\n",
        "print(\"Confusion Matrix:\\n\", confusion_matrix(y_test, y_pred))\n",
        "print(\"Classification Report:\\n\",classification_report(y_test, y_pred))"
      ],
      "metadata": {
        "colab": {
          "base_uri": "https://localhost:8080/"
        },
        "id": "G-YorgZHhzmO",
        "outputId": "ad0daa3e-eea7-4491-b89e-0a3992edc243"
      },
      "execution_count": null,
      "outputs": [
        {
          "output_type": "stream",
          "name": "stdout",
          "text": [
            "Accuracy: 0.8614\n",
            "Confusion Matrix:\n",
            " [[889   7  14   7   5   2   2   6  53  15]\n",
            " [  7 930   0   3   1   0   0   1   3  55]\n",
            " [ 39   1 810  33  53  15  35   7   5   2]\n",
            " [  6   2  28 749  29 117  41  16   1  11]\n",
            " [  8   2  29  28 834   8  35  50   3   3]\n",
            " [  2   1  13 107  26 820   9  20   1   1]\n",
            " [  7   2  30  33  12   8 908   0   0   0]\n",
            " [ 13   4  16  25  41  33   3 856   7   2]\n",
            " [ 49  14   1   6   0   0   2   0 913  15]\n",
            " [ 21  60   0   4   1   0   0   0   9 905]]\n",
            "Classification Report:\n",
            "               precision    recall  f1-score   support\n",
            "\n",
            "         0.0       0.85      0.89      0.87      1000\n",
            "         1.0       0.91      0.93      0.92      1000\n",
            "         2.0       0.86      0.81      0.83      1000\n",
            "         3.0       0.75      0.75      0.75      1000\n",
            "         4.0       0.83      0.83      0.83      1000\n",
            "         5.0       0.82      0.82      0.82      1000\n",
            "         6.0       0.88      0.91      0.89      1000\n",
            "         7.0       0.90      0.86      0.88      1000\n",
            "         8.0       0.92      0.91      0.92      1000\n",
            "         9.0       0.90      0.91      0.90      1000\n",
            "\n",
            "    accuracy                           0.86     10000\n",
            "   macro avg       0.86      0.86      0.86     10000\n",
            "weighted avg       0.86      0.86      0.86     10000\n",
            "\n"
          ]
        }
      ]
    }
  ]
}