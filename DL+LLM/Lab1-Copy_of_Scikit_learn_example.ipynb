{
  "nbformat": 4,
  "nbformat_minor": 0,
  "metadata": {
    "colab": {
      "provenance": []
    },
    "kernelspec": {
      "name": "python3",
      "display_name": "Python 3"
    },
    "language_info": {
      "name": "python"
    }
  },
  "cells": [
    {
      "cell_type": "code",
      "source": [
        "!pip install datasets"
      ],
      "metadata": {
        "id": "aAqaz5cU8cwC"
      },
      "execution_count": null,
      "outputs": []
    },
    {
      "cell_type": "code",
      "execution_count": null,
      "metadata": {
        "id": "_bAd38A0N73w"
      },
      "outputs": [],
      "source": [
        "# Import necessary libraries\n",
        "from datasets import load_dataset\n",
        "from sklearn.datasets import load_iris\n",
        "from sklearn.model_selection import train_test_split\n",
        "from sklearn.ensemble import RandomForestClassifier\n",
        "from sklearn.metrics import accuracy_score, confusion_matrix, classification_report\n",
        "\n",
        "# Load the dataset\n",
        "dataset = load_dataset(\"cifar10\")"
      ]
    },
    {
      "cell_type": "code",
      "source": [
        "# Import necessary libraries\n",
        "from sklearn.model_selection import train_test_split\n",
        "from sklearn.linear_model import LogisticRegression\n",
        "from sklearn.metrics import accuracy_score, confusion_matrix, classification_report"
      ],
      "metadata": {
        "id": "aVot1De_OjGn"
      },
      "execution_count": null,
      "outputs": []
    },
    {
      "cell_type": "code",
      "source": [
        "# @title Archive\n",
        "import numpy as np\n",
        "batch_images = np.zeros((256, 64, 64, 3))"
      ],
      "metadata": {
        "id": "5vnvTLRljBVZ",
        "cellView": "form"
      },
      "execution_count": null,
      "outputs": []
    },
    {
      "cell_type": "code",
      "source": [
        "# @title Archive\n",
        "import time\n",
        "sum = 0\n",
        "\n",
        "a = time.time()\n",
        "for i in list(np.arange(1000000)):\n",
        "  sum = i+sum\n",
        "b = time.time()\n",
        "print(b - a)"
      ],
      "metadata": {
        "id": "hOkrDMqbjOYi",
        "cellView": "form"
      },
      "execution_count": null,
      "outputs": []
    },
    {
      "cell_type": "code",
      "source": [
        "from datasets import load_dataset\n",
        "from sklearn.model_selection import train_test_split\n",
        "from sklearn.ensemble import RandomForestClassifier\n",
        "from sklearn.linear_model import LogisticRegression\n",
        "from sklearn.metrics import accuracy_score, confusion_matrix, classification_report\n",
        "import numpy as np\n",
        "\n",
        "# Load the CIFAR-10 dataset\n",
        "dataset = load_dataset(\"cifar10\")\n",
        "\n",
        "# Preprocess the dataset: Convert images to NumPy arrays and flatten\n",
        "def preprocess_images(images):\n",
        "    # Convert each image to a NumPy array and flatten it\n",
        "    return np.array([np.array(image).flatten() for image in images])\n",
        "\n",
        "def preprocess_labels(labels):\n",
        "    return np.array(labels)\n",
        "\n",
        "# Correctly accessing the 'img' and 'label' keys\n",
        "X_train = preprocess_images(dataset['train']['img'])\n",
        "y_train = preprocess_labels(dataset['train']['label'])\n",
        "X_test = preprocess_images(dataset['test']['img'])\n",
        "y_test = preprocess_labels(dataset['test']['label'])\n",
        "\n",
        "# RandomForestClassifier\n",
        "random_forest_model = RandomForestClassifier(n_estimators=100, random_state=42)\n",
        "random_forest_model.fit(X_train, y_train)\n",
        "y_pred_rf = random_forest_model.predict(X_test)\n",
        "print(\"Random Forest Classifier\")\n",
        "print(\"Accuracy:\", accuracy_score(y_test, y_pred_rf))\n",
        "print(\"Confusion Matrix:\\n\", confusion_matrix(y_test, y_pred_rf))\n",
        "print(\"Classification Report:\\n\", classification_report(y_test, y_pred_rf))\n",
        "\n",
        "# LogisticRegression\n",
        "logistic_regression_model = LogisticRegression(max_iter=200, multi_class='multinomial', solver='lbfgs', random_state=42, n_jobs=-1)\n",
        "logistic_regression_model.fit(X_train, y_train)\n",
        "y_pred_lr = logistic_regression_model.predict(X_test)\n",
        "print(\"Logistic Regression\")\n",
        "print(\"Accuracy:\", accuracy_score(y_test, y_pred_lr))\n",
        "print(\"Confusion Matrix:\\n\", confusion_matrix(y_test, y_pred_lr))\n",
        "print(\"Classification Report:\\n\", classification_report(y_test, y_pred_lr))\n",
        "\n",
        "\n"
      ],
      "metadata": {
        "colab": {
          "base_uri": "https://localhost:8080/"
        },
        "id": "HkEYACXZ_4c6",
        "outputId": "3c725c7a-ff62-4c57-d95b-7eee7a0e28ce"
      },
      "execution_count": null,
      "outputs": [
        {
          "output_type": "stream",
          "name": "stdout",
          "text": [
            "Random Forest Classifier\n",
            "Accuracy: 0.471\n",
            "Confusion Matrix:\n",
            " [[578  38  49  11  28  25  25  30 150  66]\n",
            " [ 31 552  21  28  19  32  42  28  55 192]\n",
            " [104  42 348  79 137  55 124  57  26  28]\n",
            " [ 53  41  80 269  76 203 129  61  17  71]\n",
            " [ 52  22 124  61 408  46 156  86  20  25]\n",
            " [ 36  32  90 172  64 384  87  86  28  21]\n",
            " [ 12  35  77  79 110  51 555  31  14  36]\n",
            " [ 53  42  45  65 109  74  45 455  23  89]\n",
            " [ 88  85  17  26  19  38  12  22 617  76]\n",
            " [ 50 178  14  29  20  21  25  39  80 544]]\n",
            "Classification Report:\n",
            "               precision    recall  f1-score   support\n",
            "\n",
            "           0       0.55      0.58      0.56      1000\n",
            "           1       0.52      0.55      0.53      1000\n",
            "           2       0.40      0.35      0.37      1000\n",
            "           3       0.33      0.27      0.30      1000\n",
            "           4       0.41      0.41      0.41      1000\n",
            "           5       0.41      0.38      0.40      1000\n",
            "           6       0.46      0.56      0.50      1000\n",
            "           7       0.51      0.46      0.48      1000\n",
            "           8       0.60      0.62      0.61      1000\n",
            "           9       0.47      0.54      0.51      1000\n",
            "\n",
            "    accuracy                           0.47     10000\n",
            "   macro avg       0.47      0.47      0.47     10000\n",
            "weighted avg       0.47      0.47      0.47     10000\n",
            "\n",
            "Logistic Regression\n",
            "Accuracy: 0.4018\n",
            "Confusion Matrix:\n",
            " [[459  43  65  40  30  25  24  56 185  73]\n",
            " [ 65 471  24  27  23  45  36  51  89 169]\n",
            " [106  39 300  89 114  78 126  76  49  23]\n",
            " [ 47  53 103 231  55 228 118  52  49  64]\n",
            " [ 62  20 146  65 289 102 151 109  30  26]\n",
            " [ 41  50 107 142  82 351  77  75  47  28]\n",
            " [ 20  38  81 117  93  98 473  43  20  17]\n",
            " [ 46  49  73  62  72  88  43 459  34  74]\n",
            " [158  76  22  26   9  46  13  19 532  99]\n",
            " [ 85 174  22  20  14  29  48  50 105 453]]\n",
            "Classification Report:\n",
            "               precision    recall  f1-score   support\n",
            "\n",
            "           0       0.42      0.46      0.44      1000\n",
            "           1       0.46      0.47      0.47      1000\n",
            "           2       0.32      0.30      0.31      1000\n",
            "           3       0.28      0.23      0.25      1000\n",
            "           4       0.37      0.29      0.32      1000\n",
            "           5       0.32      0.35      0.34      1000\n",
            "           6       0.43      0.47      0.45      1000\n",
            "           7       0.46      0.46      0.46      1000\n",
            "           8       0.47      0.53      0.50      1000\n",
            "           9       0.44      0.45      0.45      1000\n",
            "\n",
            "    accuracy                           0.40     10000\n",
            "   macro avg       0.40      0.40      0.40     10000\n",
            "weighted avg       0.40      0.40      0.40     10000\n",
            "\n"
          ]
        }
      ]
    },
    {
      "cell_type": "code",
      "source": [
        "# @title Archive\n",
        "import numpy as np\n",
        "dataset = load_dataset(\"cifar10\")\n",
        "X_train0 = dataset['train']['img']\n",
        "X_train = [np.array(x).flatten() for x in X_train0]\n",
        "\n",
        "X_test0 = dataset['test']['img']\n",
        "X_test = [np.array(x).flatten() for x in X_test0]"
      ],
      "metadata": {
        "id": "96Z0AzIbEtUf"
      },
      "execution_count": null,
      "outputs": []
    },
    {
      "cell_type": "code",
      "source": [
        "# @title Archive\n",
        "import tensorflow as tf\n",
        "y_train = np.array(dataset['train']['label'])\n",
        "y_test = np.array(dataset['test']['label'])\n",
        "\n",
        "model = tf.keras.applications.resnet50.ResNet50(\n",
        "  include_top=False, # take any input shape, not just 224x224\n",
        "  weights='imagenet', # use the imagenet pretrained model\n",
        "  pooling='avg' # use global average pooling to get a 2048 vector from our image\n",
        ")\n",
        "\n",
        "X_test_stack = tf.stack(X_test0)\n",
        "embedding_test = model.predict(X_test_stack)\n",
        "X_train_stack = tf.stack(X_train0)\n",
        "embedding_train = model.predict(X_train_stack)"
      ],
      "metadata": {
        "id": "nhNERJhOI36N",
        "cellView": "form"
      },
      "execution_count": null,
      "outputs": []
    },
    {
      "cell_type": "code",
      "source": [
        "# @title Archive\n",
        "from sklearn.model_selection import train_test_split\n",
        "from sklearn.ensemble import RandomForestClassifier\n",
        "from sklearn.linear_model import LogisticRegression\n",
        "from sklearn.metrics import accuracy_score, confusion_matrix, classification_report\n",
        "import numpy as np\n",
        "random_forest_model = RandomForestClassifier(n_estimators=100, random_state=42)\n",
        "random_forest_model.fit(embedding_train, y_train)\n",
        "y_pred = random_forest_model.predict(embedding_test)\n",
        "print(\"Accuracy:\", accuracy_score(y_test, y_pred))\n",
        "print(\"Confusion Matrix:\\n\", confusion_matrix(y_test, y_pred))\n",
        "print(\"Classification Report:\\n\",classification_report(y_test, y_pred))"
      ],
      "metadata": {
        "id": "Fw6pM4gMI9oD"
      },
      "execution_count": null,
      "outputs": []
    },
    {
      "cell_type": "code",
      "source": [
        "# @title Archive\n",
        "from sklearn.model_selection import train_test_split\n",
        "from sklearn.linear_model import LogisticRegression\n",
        "from sklearn.metrics import accuracy_score, confusion_matrix, classification_report\n",
        "logistic_regression_model = LogisticRegression(max_iter = 1000, multi_class='multinomial', solver='lbfgs', random_state=42)\n",
        "logistic_regression_model.fit(embedding_train, y_train)\n",
        "y_pred = logistic_regression_model.predict(embedding_test)\n",
        "\n",
        "print(\"Accuracy:\", accuracy_score(y_test, y_pred))\n",
        "print(\"Confusion Matrix:\\n\", confusion_matrix(y_test, y_pred))\n",
        "print(\"Classification Report:\\n\", classification_report(y_test, y_pred))"
      ],
      "metadata": {
        "id": "uUtjvMn2KmDO"
      },
      "execution_count": null,
      "outputs": []
    }
  ]
}